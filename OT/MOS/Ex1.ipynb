{
 "cells": [
  {
   "cell_type": "code",
   "execution_count": 1,
   "metadata": {},
   "outputs": [
    {
     "name": "stdout",
     "output_type": "stream",
     "text": [
      "Set parameter Username\n",
      "Set parameter LicenseID to value 2656700\n",
      "Academic license - for non-commercial use only - expires 2026-04-25\n"
     ]
    }
   ],
   "source": [
    "import gurobipy as gp\n",
    "from gurobipy import GRB \n",
    "\n",
    "model = gp.Model(\"MOS_1\")\n",
    "# Sets\n",
    "products = {\"product_1\", \"product_2\"}\n",
    "machines = {\"machine_1\", \"machine_2\",\"machine_3\"}\n",
    "# Parameters\n",
    "capacity = {\"machine_1\":30, \"machine_2\":10, \"machine_3\":24}\n",
    "consumption = {\"product_1\":{\"machine_1\":1, \"machine_2\":1, \"machine_3\":3}, \n",
    "               \"product_2\":{\"machine_1\":5, \"machine_2\":1, \"machine_3\":1}}\n",
    "marginal_income = {\"product_1\":10, \"product_2\":40}"
   ]
  },
  {
   "cell_type": "code",
   "execution_count": 2,
   "metadata": {},
   "outputs": [
    {
     "name": "stdout",
     "output_type": "stream",
     "text": [
      "Gurobi Optimizer version 12.0.2 build v12.0.2rc0 (linux64 - \"Linux Mint 22.1\")\n",
      "\n",
      "CPU model: 13th Gen Intel(R) Core(TM) i7-1355U, instruction set [SSE2|AVX|AVX2]\n",
      "Thread count: 12 physical cores, 12 logical processors, using up to 12 threads\n",
      "\n",
      "Optimize a model with 3 rows, 2 columns and 6 nonzeros\n",
      "Model fingerprint: 0xe61ed633\n",
      "Coefficient statistics:\n",
      "  Matrix range     [1e+00, 5e+00]\n",
      "  Objective range  [1e+01, 4e+01]\n",
      "  Bounds range     [0e+00, 0e+00]\n",
      "  RHS range        [1e+01, 3e+01]\n",
      "Presolve time: 0.01s\n",
      "Presolved: 3 rows, 2 columns, 6 nonzeros\n",
      "\n",
      "Iteration    Objective       Primal Inf.    Dual Inf.      Time\n",
      "       0    5.0000000e+31   3.750000e+30   5.000000e+01      0s\n",
      "       2    2.5000000e+02   0.000000e+00   0.000000e+00      0s\n",
      "\n",
      "Solved in 2 iterations and 0.02 seconds (0.00 work units)\n",
      "Optimal objective  2.500000000e+02\n"
     ]
    }
   ],
   "source": [
    "# Decision variables\n",
    "q_i = model.addVars((i for i in products), lb = 0, vtype = gp.GRB.CONTINUOUS, name = \"quantity of products\")\n",
    "# Objective function\n",
    "model.setObjective(marginal_income[\"product_1\"] * q_i[\"product_1\"] +  marginal_income[\"product_2\"] * q_i[\"product_2\"], gp.GRB.MAXIMIZE)\n",
    "# Constraints\n",
    "model.addConstr(consumption[\"product_1\"][\"machine_1\"] * q_i[\"product_1\"] + consumption[\"product_2\"][\"machine_1\"] * q_i[\"product_2\"] <= capacity[\"machine_1\"])\n",
    "model.addConstr(consumption[\"product_1\"][\"machine_2\"] * q_i[\"product_1\"] + consumption[\"product_2\"][\"machine_2\"] * q_i[\"product_2\"] <= capacity[\"machine_2\"])\n",
    "model.addConstr(consumption[\"product_1\"][\"machine_3\"] * q_i[\"product_1\"] + consumption[\"product_2\"][\"machine_3\"] * q_i[\"product_2\"] <= capacity[\"machine_3\"])\n",
    "model.optimize()"
   ]
  },
  {
   "cell_type": "code",
   "execution_count": 3,
   "metadata": {},
   "outputs": [
    {
     "name": "stdout",
     "output_type": "stream",
     "text": [
      "Optimal Solution:\n",
      "product_2: 5.0 units\n",
      "product_1: 5.0 units\n",
      "Total Income: 250.0 €\n"
     ]
    }
   ],
   "source": [
    "# Print results\n",
    "if model.status == GRB.OPTIMAL:\n",
    "    print(\"Optimal Solution:\")\n",
    "    for p in products:\n",
    "        print(f\"{p}: {q_i[p].X} units\")\n",
    "    print(f\"Total Income: {model.ObjVal} €\")\n",
    "\n",
    "else:\n",
    "    print(\"No optimal solution found.\")"
   ]
  }
 ],
 "metadata": {
  "kernelspec": {
   "display_name": ".venv",
   "language": "python",
   "name": "python3"
  },
  "language_info": {
   "codemirror_mode": {
    "name": "ipython",
    "version": 3
   },
   "file_extension": ".py",
   "mimetype": "text/x-python",
   "name": "python",
   "nbconvert_exporter": "python",
   "pygments_lexer": "ipython3",
   "version": "3.13.3"
  }
 },
 "nbformat": 4,
 "nbformat_minor": 2
}

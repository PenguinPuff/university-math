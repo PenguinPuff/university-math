{
 "cells": [
  {
   "cell_type": "code",
   "execution_count": null,
   "id": "33a3543d",
   "metadata": {},
   "outputs": [],
   "source": [
    "import gurobipy as gp\n",
    "from gurobipy import GRB \n",
    "import openpyxl\n",
    "from openpyxl import load_workbook\n",
    "\n",
    "### Cell 1: Preprocessing (input data from excel and convert of currency unit)\n",
    "wb = load_workbook('Ex4.xlsx')\n",
    "sheet1 = wb['Sheet1']\n",
    "\n",
    "rate = 1.2\n",
    "\n",
    "I = set(range(1,sheet1['A6'].value + 1)) # set of facility\n",
    "J = set(range(1,sheet1['F2'].value + 1)) # set of customer\n",
    "b = {j: sheet1.cell(row=7, column=c).value for c in range(2,7) for j in J if j == sheet1.cell(row=2, column=c).value} # demand of customer\n",
    "a = {i: sheet1.cell(row=r, column=7).value for r in range(3,7) for i in I if i == sheet1.cell(row=r, column=1).value} # capacity of facility\n",
    "c = {i: {j: sheet1.cell(row=r, column=c).value * rate \n",
    "         for c in range(2,7) for j in J if j == sheet1.cell(row=2, column=c).value} \n",
    "         for r in range(3,7) for i in I if i == sheet1.cell(row=r, column=1).value} # transportation cost from i to j"
   ]
  },
  {
   "cell_type": "code",
   "execution_count": 2,
   "id": "6de5d6cb",
   "metadata": {},
   "outputs": [
    {
     "name": "stdout",
     "output_type": "stream",
     "text": [
      "Set parameter Username\n",
      "Set parameter LicenseID to value 2656700\n",
      "Academic license - for non-commercial use only - expires 2026-04-25\n",
      "Gurobi Optimizer version 12.0.2 build v12.0.2rc0 (linux64 - \"Linux Mint 22.1\")\n",
      "\n",
      "CPU model: 13th Gen Intel(R) Core(TM) i7-1355U, instruction set [SSE2|AVX|AVX2]\n",
      "Thread count: 12 physical cores, 12 logical processors, using up to 12 threads\n",
      "\n",
      "Optimize a model with 9 rows, 20 columns and 40 nonzeros\n",
      "Model fingerprint: 0x267ac783\n",
      "Coefficient statistics:\n",
      "  Matrix range     [1e+00, 1e+00]\n",
      "  Objective range  [1e+00, 1e+01]\n",
      "  Bounds range     [0e+00, 0e+00]\n",
      "  RHS range        [2e+01, 4e+01]\n",
      "Presolve time: 0.01s\n",
      "Presolved: 9 rows, 20 columns, 40 nonzeros\n",
      "\n"
     ]
    },
    {
     "name": "stdout",
     "output_type": "stream",
     "text": [
      "Iteration    Objective       Primal Inf.    Dual Inf.      Time\n",
      "       0    2.8200000e+02   4.700000e+01   0.000000e+00      0s\n",
      "       4    4.2720000e+02   0.000000e+00   0.000000e+00      0s\n",
      "\n",
      "Solved in 4 iterations and 0.03 seconds (0.00 work units)\n",
      "Optimal objective  4.272000000e+02\n"
     ]
    }
   ],
   "source": [
    "### Cell 2: Implementation\n",
    "model = gp.Model(\"Transportation Problem\")\n",
    "x = model.addVars(((i,j) for i in I for j in J), lb=0, vtype = GRB.CONTINUOUS, name = \"quantity\")\n",
    "model.setObjective(gp.quicksum(x[i,j] * c[i][j] for i in I for j in J), GRB.MINIMIZE)\n",
    "model.addConstrs((gp.quicksum(x[i,j] for j in J) <= a[i] for i in I), name=\"capacity constraints\")\n",
    "model.addConstrs((gp.quicksum(x[i,j] for i in I) == b[j] for j in J), name=\"demand constraints\")\n",
    "model.optimize()"
   ]
  },
  {
   "cell_type": "code",
   "execution_count": 3,
   "id": "ffa98000",
   "metadata": {},
   "outputs": [],
   "source": [
    "### Cell 3: Preprocessing (write in the optimal solution)\n",
    "for j in J:\n",
    "    for i in I:\n",
    "        sheet1.cell(row=11+i, column=1+j, value=round(x[i,j].X,0))\n",
    "sheet1['C17'].value = model.objVal\n",
    "wb.save('Ex4.xlsx')"
   ]
  },
  {
   "cell_type": "code",
   "execution_count": 4,
   "id": "5d3aa968",
   "metadata": {},
   "outputs": [
    {
     "name": "stdout",
     "output_type": "stream",
     "text": [
      "Cost for 1: 90.0\n",
      "Cost for 2: 144.0\n",
      "Cost for 3: 79.2\n",
      "Cost for 4: 114.0\n",
      "The total cost is 427.2 Euros.\n"
     ]
    }
   ],
   "source": [
    "### Cell 4: Preprocessing (result output)\n",
    "for i in I: # calculate the cost for every i in I\n",
    "    print(f'Cost for {i}: {round(sum(x[i,j].X * c[i][j] for j in J),1)}')\n",
    "print(f'The total cost is {model.objVal} Euros.')"
   ]
  },
  {
   "cell_type": "code",
   "execution_count": null,
   "id": "7d68a2f5",
   "metadata": {},
   "outputs": [],
   "source": [
    "def transportation_problem(filename, rate):\n",
    "    wb = load_workbook(filename)\n",
    "    sheet1 = wb['Sheet1']\n",
    "    I = set(range(1,sheet1['A6'].value + 1)) # set of facility\n",
    "    J = set(range(1,sheet1['F2'].value + 1)) # set of customer\n",
    "    b = {j: sheet1.cell(row=7, column=c).value for c in range(2,7) for j in J if j == sheet1.cell(row=2, column=c).value} # demand of customer\n",
    "    a = {i: sheet1.cell(row=r, column=7).value for r in range(3,7) for i in I if i == sheet1.cell(row=r, column=1).value} # capacity of facility\n",
    "    c = {i: {j: sheet1.cell(row=r, column=c).value * rate \n",
    "             for c in range(2,7) for j in J if j == sheet1.cell(row=2, column=c).value} \n",
    "             for r in range(3,7) for i in I if i == sheet1.cell(row=r, column=1).value} # transportation cost from i to j\n",
    "    # Gurobi Model\n",
    "    model = gp.Model(\"Transportation Problem\")\n",
    "    x = model.addVars(((i,j) for i in I for j in J), lb=0, vtype = GRB.CONTINUOUS, name = \"quantity\")\n",
    "    model.setObjective(gp.quicksum(x[i,j] * c[i][j] for i in I for j in J), GRB.MINIMIZE)\n",
    "    model.addConstrs((gp.quicksum(x[i,j] for j in J) <= a[i] for i in I), name=\"capacity constraints\")\n",
    "    model.addConstrs((gp.quicksum(x[i,j] for i in I) == b[j] for j in J), name=\"demand constraints\")\n",
    "    model.setParam('OutputFlag', 0)\n",
    "    model.optimize()\n",
    "    # Result output\n",
    "    if model.status == GRB.OPTIMAL:\n",
    "        print(f'\\nThe total cost of instance (rate={rate}) is {model.objVal} Euros.')\n",
    "        for i in I:\n",
    "            print(f'Cost for {i}: {round(sum(x[i,j].X * c[i][j] for j in J),1)}')\n",
    "        else:\n",
    "            print(f\"Instance (rate={rate}) has no optimal solution.\")"
   ]
  },
  {
   "cell_type": "code",
   "execution_count": 6,
   "id": "1c1af1f5",
   "metadata": {},
   "outputs": [
    {
     "name": "stdout",
     "output_type": "stream",
     "text": [
      "\n",
      "The total cost of instance (rate=1.79) is 637.24 Euros.\n",
      "Cost for 1: 134.2\n",
      "Cost for 2: 171.8\n",
      "Cost for 3: 107.4\n",
      "Cost for 4: 223.8\n",
      "Instance (rate=1.79) has no optimal solution.\n",
      "\n",
      "The total cost of instance (rate=2.18) is 776.0800000000002 Euros.\n",
      "Cost for 1: 163.5\n",
      "Cost for 2: 209.3\n",
      "Cost for 3: 130.8\n",
      "Cost for 4: 272.5\n",
      "Instance (rate=2.18) has no optimal solution.\n",
      "\n",
      "The total cost of instance (rate=2) is 712.0 Euros.\n",
      "Cost for 1: 150.0\n",
      "Cost for 2: 240.0\n",
      "Cost for 3: 132.0\n",
      "Cost for 4: 190.0\n",
      "Instance (rate=2) has no optimal solution.\n",
      "\n",
      "The total cost of instance (rate=1.35) is 480.6 Euros.\n",
      "Cost for 1: 101.3\n",
      "Cost for 2: 129.6\n",
      "Cost for 3: 81.0\n",
      "Cost for 4: 168.8\n",
      "Instance (rate=1.35) has no optimal solution.\n",
      "\n",
      "The total cost of instance (rate=1) is 356.0 Euros.\n",
      "Cost for 1: 75.0\n",
      "Cost for 2: 120.0\n",
      "Cost for 3: 66.0\n",
      "Cost for 4: 95.0\n",
      "Instance (rate=1) has no optimal solution.\n"
     ]
    }
   ],
   "source": [
    "rate_set = {1, 2.18, 1.35, 1.79, 2}\n",
    "for rate in rate_set:\n",
    "    transportation_problem('Ex4.xlsx',rate)"
   ]
  }
 ],
 "metadata": {
  "kernelspec": {
   "display_name": ".venv",
   "language": "python",
   "name": "python3"
  },
  "language_info": {
   "codemirror_mode": {
    "name": "ipython",
    "version": 3
   },
   "file_extension": ".py",
   "mimetype": "text/x-python",
   "name": "python",
   "nbconvert_exporter": "python",
   "pygments_lexer": "ipython3",
   "version": "3.13.3"
  }
 },
 "nbformat": 4,
 "nbformat_minor": 5
}

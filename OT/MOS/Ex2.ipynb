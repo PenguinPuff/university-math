{
 "cells": [
  {
   "cell_type": "code",
   "execution_count": null,
   "id": "21860715",
   "metadata": {},
   "outputs": [],
   "source": [
    "# Data Cell\n",
    "import gurobipy as gp\n",
    "from gurobipy import GRB \n",
    "\n",
    "I = set(range(1,4)) #{1,2,3} machines\n",
    "J = set(range(1,3)) #{1,2} products\n",
    "b = {1:30,2:10,3:24} # Parameter: resource availability for machine i, using dictionaries for these\n",
    "c = {1:10,2:40} # Parameter: income contribution per unit j in J, using dictionary for these\n",
    "a = {1:{1:1,2:5},2:{1:1,2:1},3:{1:3,2:1}} # Para: consumption per unit j on i, using dictionary for these"
   ]
  },
  {
   "cell_type": "code",
   "execution_count": 20,
   "id": "e11ebb0b",
   "metadata": {},
   "outputs": [
    {
     "name": "stdout",
     "output_type": "stream",
     "text": [
      "Gurobi Optimizer version 12.0.1 build v12.0.1rc0 (linux64 - \"Linux Mint 22.1\")\n",
      "\n",
      "CPU model: 13th Gen Intel(R) Core(TM) i7-1355U, instruction set [SSE2|AVX|AVX2]\n",
      "Thread count: 12 physical cores, 12 logical processors, using up to 12 threads\n",
      "\n",
      "Optimize a model with 3 rows, 2 columns and 6 nonzeros\n",
      "Model fingerprint: 0x77a9c7a2\n",
      "Coefficient statistics:\n",
      "  Matrix range     [1e+00, 5e+00]\n",
      "  Objective range  [1e+01, 4e+01]\n",
      "  Bounds range     [0e+00, 0e+00]\n",
      "  RHS range        [1e+01, 3e+01]\n",
      "Presolve time: 0.02s\n",
      "Presolved: 3 rows, 2 columns, 6 nonzeros\n",
      "\n",
      "Iteration    Objective       Primal Inf.    Dual Inf.      Time\n",
      "       0    5.0000000e+31   3.750000e+30   5.000000e+01      0s\n",
      "       2    2.5000000e+02   0.000000e+00   0.000000e+00      0s\n",
      "\n",
      "Solved in 2 iterations and 0.03 seconds (0.00 work units)\n",
      "Optimal objective  2.500000000e+02\n"
     ]
    }
   ],
   "source": [
    "# Model cell\n",
    "model = gp.Model(\"Answer 1-3\")\n",
    "x = model.addVars((j for j in J), vtype=GRB.CONTINUOUS, lb=0, name=\"production quantity\")\n",
    "model.setObjective(gp.quicksum(c[j]*x[j] for j in J), GRB.MAXIMIZE)\n",
    "model.addConstrs((gp.quicksum(a[i][j]*x[j] for j in J) <= b[i] for i in I), name=\"capacity\")\n",
    "model.optimize()"
   ]
  },
  {
   "cell_type": "code",
   "execution_count": 21,
   "id": "a2bb455d",
   "metadata": {},
   "outputs": [
    {
     "name": "stdout",
     "output_type": "stream",
     "text": [
      "\n",
      "Slacks are:\n",
      "Machine1 = 0\n",
      "Machine2 = 0\n",
      "Machine3 = 4\n"
     ]
    }
   ],
   "source": [
    "# Slack Checking\n",
    "print(f\"\\nSlacks are:\")\n",
    "slack = model.getAttr(\"Slack\", model.getConstrs())\n",
    "for i in I:\n",
    "    print(f\"Machine{i} = {int(slack[i-1])}\")"
   ]
  },
  {
   "cell_type": "markdown",
   "id": "3e8c354f",
   "metadata": {},
   "source": [
    "Modification of the Linear Program"
   ]
  },
  {
   "cell_type": "code",
   "execution_count": null,
   "id": "31b58ec7",
   "metadata": {},
   "outputs": [],
   "source": [
    "# Data Cell\n",
    "T = set(range(1,8)) # Set: time period {1,2,3,4,5,6,7}\n",
    "b = {1:{1:20,2:20,3:25,4:15,5:20,6:10,7:10}, \n",
    "     2:{1:5,2:7,3:7,4:10,5:10,6:5,7:5}, \n",
    "     3:{1:12,2:10,3:20,4:15,5:15,6:12,7:12}} "
   ]
  },
  {
   "cell_type": "code",
   "execution_count": 23,
   "id": "7228f54a",
   "metadata": {},
   "outputs": [
    {
     "name": "stdout",
     "output_type": "stream",
     "text": [
      "Gurobi Optimizer version 12.0.1 build v12.0.1rc0 (linux64 - \"Linux Mint 22.1\")\n",
      "\n",
      "CPU model: 13th Gen Intel(R) Core(TM) i7-1355U, instruction set [SSE2|AVX|AVX2]\n",
      "Thread count: 12 physical cores, 12 logical processors, using up to 12 threads\n",
      "\n",
      "Optimize a model with 21 rows, 14 columns and 42 nonzeros\n",
      "Model fingerprint: 0x1bb88ecb\n",
      "Variable types: 0 continuous, 14 integer (0 binary)\n",
      "Coefficient statistics:\n",
      "  Matrix range     [1e+00, 5e+00]\n",
      "  Objective range  [1e+01, 4e+01]\n",
      "  Bounds range     [0e+00, 0e+00]\n",
      "  RHS range        [5e+00, 2e+01]\n",
      "Found heuristic solution: objective 390.0000000\n",
      "Presolve removed 18 rows and 12 columns\n",
      "Presolve time: 0.01s\n",
      "Presolved: 3 rows, 2 columns, 6 nonzeros\n",
      "Found heuristic solution: objective 840.0000000\n",
      "Variable types: 0 continuous, 2 integer (0 binary)\n",
      "\n",
      "Root relaxation: objective 9.600000e+02, 2 iterations, 0.00 seconds (0.00 work units)\n",
      "\n",
      "    Nodes    |    Current Node    |     Objective Bounds      |     Work\n",
      " Expl Unexpl |  Obj  Depth IntInf | Incumbent    BestBd   Gap | It/Node Time\n",
      "\n",
      "     0     0  960.00000    0    2  840.00000  960.00000  14.3%     -    0s\n",
      "H    0     0                     940.0000000  960.00000  2.13%     -    0s\n",
      "H    0     0                     960.0000000  960.00000  0.00%     -    0s\n",
      "     0     0  960.00000    0    2  960.00000  960.00000  0.00%     -    0s\n",
      "\n",
      "Explored 1 nodes (2 simplex iterations) in 0.05 seconds (0.00 work units)\n",
      "Thread count was 12 (of 12 available processors)\n",
      "\n",
      "Solution count 4: 960 940 840 390 \n",
      "\n",
      "Optimal solution found (tolerance 1.00e-04)\n",
      "Best objective 9.600000000000e+02, best bound 9.600000000000e+02, gap 0.0000%\n"
     ]
    }
   ],
   "source": [
    "# Model cell\n",
    "model = gp.Model(\"Answer 4\")\n",
    "x = model.addVars(((j,t) for j in J for t in T), vtype=GRB.INTEGER, name=\"production quantity\")\n",
    "model.setObjective(gp.quicksum(c[j] * x[j,t] for j in J for t in T), GRB.MAXIMIZE)\n",
    "model.addConstrs(gp.quicksum(a[i][j] * x[j,t] for j in J) <= b[i][t] for i in I for t in T)\n",
    "model.optimize()"
   ]
  }
 ],
 "metadata": {
  "kernelspec": {
   "display_name": "env_mos",
   "language": "python",
   "name": "python3"
  },
  "language_info": {
   "codemirror_mode": {
    "name": "ipython",
    "version": 3
   },
   "file_extension": ".py",
   "mimetype": "text/x-python",
   "name": "python",
   "nbconvert_exporter": "python",
   "pygments_lexer": "ipython3",
   "version": "3.12.3"
  }
 },
 "nbformat": 4,
 "nbformat_minor": 5
}

{
 "cells": [
  {
   "cell_type": "markdown",
   "metadata": {},
   "source": [
    "Grundlagen: Lineare Programmierung (Applied Discrete Optimization)"
   ]
  },
  {
   "cell_type": "markdown",
   "metadata": {},
   "source": [
    "Aufgabe 1A"
   ]
  },
  {
   "cell_type": "code",
   "execution_count": 2,
   "metadata": {},
   "outputs": [
    {
     "name": "stdout",
     "output_type": "stream",
     "text": [
      "Gurobi Optimizer version 12.0.1 build v12.0.1rc0 (linux64 - \"Linux Mint 22.1\")\n",
      "\n",
      "CPU model: 13th Gen Intel(R) Core(TM) i7-1355U, instruction set [SSE2|AVX|AVX2]\n",
      "Thread count: 12 physical cores, 12 logical processors, using up to 12 threads\n",
      "\n",
      "Optimize a model with 5 rows, 2 columns and 7 nonzeros\n",
      "Model fingerprint: 0x36ec3ab4\n",
      "Coefficient statistics:\n",
      "  Matrix range     [1e+00, 6e+01]\n",
      "  Objective range  [2e-01, 4e-01]\n",
      "  Bounds range     [0e+00, 0e+00]\n",
      "  RHS range        [6e+01, 3e+02]\n",
      "Presolve removed 5 rows and 2 columns\n",
      "Presolve time: 0.01s\n",
      "Presolve: All rows and columns removed\n",
      "Iteration    Objective       Primal Inf.    Dual Inf.      Time\n",
      "       0    2.4000000e+01   0.000000e+00   0.000000e+00      0s\n",
      "\n",
      "Solved in 0 iterations and 0.02 seconds (0.00 work units)\n",
      "Optimal objective  2.400000000e+01\n"
     ]
    }
   ],
   "source": [
    "import gurobipy as gp \n",
    "\n",
    "model = gp.Model(\"GLP\")\n",
    "\n",
    "x = model.addVar(name = \"x\")\n",
    "y = model.addVar(name = \"y\")\n",
    "\n",
    "model.setObjective(0.4*x + 0.2*y, gp.GRB.MINIMIZE)\n",
    "\n",
    "model.addConstr(60*x + 7*y >= 320, \"Constraint_1\")\n",
    "model.addConstr(8*x + 2*y >= 60, \"Constraint_2\")\n",
    "model.addConstr(1*x + 0*y >= 60, \"Constraint_3\")\n",
    "model.addConstr(x >= 0, \"non-negativity_constraint\")\n",
    "model.addConstr(y >= 0, \"non-negativity_constraint\")\n",
    "model.optimize()"
   ]
  },
  {
   "cell_type": "markdown",
   "metadata": {},
   "source": [
    "Aufgabe 1B"
   ]
  },
  {
   "cell_type": "code",
   "execution_count": 3,
   "metadata": {},
   "outputs": [
    {
     "name": "stdout",
     "output_type": "stream",
     "text": [
      "Gurobi Optimizer version 12.0.1 build v12.0.1rc0 (linux64 - \"Linux Mint 22.1\")\n",
      "\n",
      "CPU model: 13th Gen Intel(R) Core(TM) i7-1355U, instruction set [SSE2|AVX|AVX2]\n",
      "Thread count: 12 physical cores, 12 logical processors, using up to 12 threads\n",
      "\n",
      "Optimize a model with 5 rows, 2 columns and 6 nonzeros\n",
      "Model fingerprint: 0xfb47a319\n",
      "Coefficient statistics:\n",
      "  Matrix range     [1e+00, 8e+01]\n",
      "  Objective range  [4e-01, 2e+00]\n",
      "  Bounds range     [0e+00, 0e+00]\n",
      "  RHS range        [6e+01, 3e+02]\n",
      "Presolve removed 5 rows and 2 columns\n",
      "Presolve time: 0.01s\n",
      "Presolve: All rows and columns removed\n",
      "Iteration    Objective       Primal Inf.    Dual Inf.      Time\n",
      "       0    3.9843750e+00   0.000000e+00   0.000000e+00      0s\n",
      "\n",
      "Solved in 0 iterations and 0.02 seconds (0.00 work units)\n",
      "Optimal objective  3.984375000e+00\n"
     ]
    }
   ],
   "source": [
    "import gurobipy as gp \n",
    "\n",
    "model = gp.Model(\"GLP\")\n",
    "\n",
    "x = model.addVar(name = \"x\")\n",
    "y = model.addVar(name = \"y\")\n",
    "\n",
    "model.setObjective(0.4*x + 1.5*y, gp.GRB.MINIMIZE)\n",
    "\n",
    "model.addConstr(60*x + 0*y >= 320, \"Constraint_1\")\n",
    "model.addConstr(8*x + 0*y >= 60, \"Constraint_2\")\n",
    "model.addConstr(1*x + 80*y >= 60, \"Constraint_3\")\n",
    "model.addConstr(x >= 0, \"non-negativity_constraint\")\n",
    "model.addConstr(y >= 0, \"non-negativity_constraint\")\n",
    "model.optimize()"
   ]
  },
  {
   "cell_type": "markdown",
   "metadata": {},
   "source": [
    "Aufgabe 1C"
   ]
  },
  {
   "cell_type": "code",
   "execution_count": 4,
   "metadata": {},
   "outputs": [
    {
     "name": "stdout",
     "output_type": "stream",
     "text": [
      "Gurobi Optimizer version 12.0.1 build v12.0.1rc0 (linux64 - \"Linux Mint 22.1\")\n",
      "\n",
      "CPU model: 13th Gen Intel(R) Core(TM) i7-1355U, instruction set [SSE2|AVX|AVX2]\n",
      "Thread count: 12 physical cores, 12 logical processors, using up to 12 threads\n",
      "\n",
      "Optimize a model with 5 rows, 2 columns and 6 nonzeros\n",
      "Model fingerprint: 0xef774b64\n",
      "Coefficient statistics:\n",
      "  Matrix range     [1e+00, 4e+01]\n",
      "  Objective range  [2e-01, 2e-01]\n",
      "  Bounds range     [0e+00, 0e+00]\n",
      "  RHS range        [6e+01, 3e+02]\n",
      "Presolve time: 0.02s\n",
      "\n",
      "Solved in 0 iterations and 0.02 seconds (0.00 work units)\n",
      "Infeasible model\n"
     ]
    }
   ],
   "source": [
    "import gurobipy as gp \n",
    "\n",
    "model = gp.Model(\"GLP\")\n",
    "\n",
    "x = model.addVar(name = \"x\")\n",
    "y = model.addVar(name = \"y\")\n",
    "\n",
    "model.setObjective(0.2*x + 0.2*y, gp.GRB.MINIMIZE)\n",
    "\n",
    "model.addConstr(7*x + 40*y >= 320, \"Constraint_1\")\n",
    "model.addConstr(2*x + 2*y >= 60, \"Constraint_2\")\n",
    "model.addConstr(0*x + 0*y >= 60, \"Constraint_3\")\n",
    "model.addConstr(x >= 0, \"non-negativity_constraint\")\n",
    "model.addConstr(y >= 0, \"non-negativity_constraint\")\n",
    "model.optimize()"
   ]
  },
  {
   "cell_type": "markdown",
   "metadata": {},
   "source": [
    "Aufgabe 1D"
   ]
  },
  {
   "cell_type": "code",
   "execution_count": 5,
   "metadata": {},
   "outputs": [
    {
     "name": "stdout",
     "output_type": "stream",
     "text": [
      "Gurobi Optimizer version 12.0.1 build v12.0.1rc0 (linux64 - \"Linux Mint 22.1\")\n",
      "\n",
      "CPU model: 13th Gen Intel(R) Core(TM) i7-1355U, instruction set [SSE2|AVX|AVX2]\n",
      "Thread count: 12 physical cores, 12 logical processors, using up to 12 threads\n",
      "\n",
      "Optimize a model with 5 rows, 2 columns and 6 nonzeros\n",
      "Model fingerprint: 0xe344c6f9\n",
      "Coefficient statistics:\n",
      "  Matrix range     [1e+00, 4e+01]\n",
      "  Objective range  [2e-01, 2e+00]\n",
      "  Bounds range     [0e+00, 0e+00]\n",
      "  RHS range        [6e+01, 3e+02]\n",
      "Presolve removed 5 rows and 2 columns\n",
      "Presolve time: 0.02s\n",
      "Presolve: All rows and columns removed\n",
      "Iteration    Objective       Primal Inf.    Dual Inf.      Time\n",
      "       0    1.6000000e+01   0.000000e+00   0.000000e+00      0s\n",
      "\n",
      "Solved in 0 iterations and 0.03 seconds (0.00 work units)\n",
      "Optimal objective  1.600000000e+01\n"
     ]
    }
   ],
   "source": [
    "import gurobipy as gp \n",
    "\n",
    "model = gp.Model(\"GLP\")\n",
    "\n",
    "x = model.addVar(name = \"x\")\n",
    "y = model.addVar(name = \"y\")\n",
    "\n",
    "model.setObjective(2*x + 0.2*y, gp.GRB.MINIMIZE)\n",
    "\n",
    "model.addConstr(40*x + 0*y >= 320, \"Constraint_1\")\n",
    "model.addConstr(26*x + 2*y >= 60, \"Constraint_2\")\n",
    "model.addConstr(15*x + 0*y >= 60, \"Constraint_3\")\n",
    "model.addConstr(x >= 0, \"non-negativity_constraint\")\n",
    "model.addConstr(y >= 0, \"non-negativity_constraint\")\n",
    "model.optimize()"
   ]
  },
  {
   "cell_type": "markdown",
   "metadata": {},
   "source": [
    "Aufgabe 2"
   ]
  },
  {
   "cell_type": "code",
   "execution_count": 6,
   "metadata": {},
   "outputs": [
    {
     "name": "stdout",
     "output_type": "stream",
     "text": [
      "Gurobi Optimizer version 12.0.1 build v12.0.1rc0 (linux64 - \"Linux Mint 22.1\")\n",
      "\n",
      "CPU model: 13th Gen Intel(R) Core(TM) i7-1355U, instruction set [SSE2|AVX|AVX2]\n",
      "Thread count: 12 physical cores, 12 logical processors, using up to 12 threads\n",
      "\n",
      "Optimize a model with 8 rows, 4 columns and 16 nonzeros\n",
      "Model fingerprint: 0xb296f781\n",
      "Coefficient statistics:\n",
      "  Matrix range     [1e+00, 4e+00]\n",
      "  Objective range  [3e+00, 2e+01]\n",
      "  Bounds range     [0e+00, 0e+00]\n",
      "  RHS range        [1e+00, 2e+00]\n",
      "Presolve removed 4 rows and 1 columns\n",
      "Presolve time: 0.01s\n",
      "Presolved: 4 rows, 3 columns, 9 nonzeros\n",
      "\n",
      "Iteration    Objective       Primal Inf.    Dual Inf.      Time\n",
      "       0    0.0000000e+00   1.500000e+00   0.000000e+00      0s\n",
      "       2    6.0000000e+00   0.000000e+00   0.000000e+00      0s\n",
      "\n",
      "Solved in 2 iterations and 0.03 seconds (0.00 work units)\n",
      "Optimal objective  6.000000000e+00\n"
     ]
    }
   ],
   "source": [
    "import gurobipy as gp \n",
    "\n",
    "model = gp.Model(\"GLP\")\n",
    "\n",
    "x = model.addVar(name = \"x\")\n",
    "y = model.addVar(name = \"y\")\n",
    "w = model.addVar(name = \"w\")\n",
    "z = model.addVar(name = \"z\")\n",
    "\n",
    "model.setObjective(3*w + 20*x + 13*y + 3*z, gp.GRB.MINIMIZE)\n",
    "\n",
    "model.addConstr(3*w + 1*x >= 1, \"Constraint_1\")\n",
    "model.addConstr(2*w + 3*x + 3*y >= 2, \"Constraint_2\")\n",
    "model.addConstr(4*x + 1*y + 1*z >= 1, \"Constraint_3\")\n",
    "model.addConstr(1*w + 2*x + 1*y + 1*z >=1, \"constraint_4\")\n",
    "model.addConstr(x >= 0, \"non-negativity_constraint\")\n",
    "model.addConstr(y >= 0, \"non-negativity_constraint\")\n",
    "model.addConstr(w >= 0, \"non-negativity_constraint\")\n",
    "model.addConstr(z >= 0, \"non-negativity_constraint\")\n",
    "\n",
    "model.optimize()"
   ]
  },
  {
   "cell_type": "markdown",
   "metadata": {},
   "source": [
    "Aufgabe 3"
   ]
  },
  {
   "cell_type": "code",
   "execution_count": 7,
   "metadata": {},
   "outputs": [
    {
     "name": "stdout",
     "output_type": "stream",
     "text": [
      "Gurobi Optimizer version 12.0.1 build v12.0.1rc0 (linux64 - \"Linux Mint 22.1\")\n",
      "\n",
      "CPU model: 13th Gen Intel(R) Core(TM) i7-1355U, instruction set [SSE2|AVX|AVX2]\n",
      "Thread count: 12 physical cores, 12 logical processors, using up to 12 threads\n",
      "\n",
      "Optimize a model with 5 rows, 3 columns and 9 nonzeros\n",
      "Model fingerprint: 0xab0be92f\n",
      "Coefficient statistics:\n",
      "  Matrix range     [1e+00, 4e+00]\n",
      "  Objective range  [1e+00, 1e+00]\n",
      "  Bounds range     [0e+00, 0e+00]\n",
      "  RHS range        [2e+00, 5e+00]\n",
      "Presolve removed 3 rows and 0 columns\n",
      "Presolve time: 0.02s\n",
      "Presolved: 2 rows, 3 columns, 6 nonzeros\n",
      "\n",
      "Iteration    Objective       Primal Inf.    Dual Inf.      Time\n",
      "       0    2.0000000e+00   0.000000e+00   0.000000e+00      0s\n",
      "       0    2.0000000e+00   0.000000e+00   0.000000e+00      0s\n",
      "\n",
      "Solved in 0 iterations and 0.03 seconds (0.00 work units)\n",
      "Optimal objective  2.000000000e+00\n"
     ]
    }
   ],
   "source": [
    "import gurobipy as gp \n",
    "\n",
    "model = gp.Model(\"GLP\")\n",
    "\n",
    "x = model.addVar(name = \"x\")\n",
    "y = model.addVar(name = \"y\")\n",
    "z = model.addVar(name = \"z\")\n",
    "\n",
    "model.setObjective(x + y + z, gp.GRB.MAXIMIZE)\n",
    "\n",
    "model.addConstr(4*x + 2*y + 1*z <= 2, \"Constraint_1\")\n",
    "model.addConstr(1*x + 3*y + 1*z <= 5, \"Constraint_2\")\n",
    "\n",
    "model.addConstr(x >= 0, \"non-negativity_constraint\")\n",
    "model.addConstr(y >= 0, \"non-negativity_constraint\")\n",
    "model.addConstr(z >= 0, \"non-negativity_constraint\")\n",
    "\n",
    "model.optimize()"
   ]
  }
 ],
 "metadata": {
  "kernelspec": {
   "display_name": "env_mos",
   "language": "python",
   "name": "python3"
  },
  "language_info": {
   "codemirror_mode": {
    "name": "ipython",
    "version": 3
   },
   "file_extension": ".py",
   "mimetype": "text/x-python",
   "name": "python",
   "nbconvert_exporter": "python",
   "pygments_lexer": "ipython3",
   "version": "3.12.3"
  }
 },
 "nbformat": 4,
 "nbformat_minor": 2
}

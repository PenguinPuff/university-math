{
 "cells": [
  {
   "cell_type": "code",
   "execution_count": null,
   "id": "74ea8bc1",
   "metadata": {},
   "outputs": [],
   "source": [
    "# Data Cell\n",
    "import gurobipy as gp\n",
    "from gurobipy import GRB \n",
    "\n",
    "I = {\"coloring\", \"sewing\", \"washing\"} # Set: production steps i\n",
    "J = {\"basic-used\", \"vintage\", \"used-finished\"} # Set: jeans types j\n",
    "r = {\"basic-used\":85, \"vintage\":95, \"used-finished\":80} # Para: marginal income r[j]\n",
    "b = {\"coloring\":300, \"sewing\":290, \"washing\":330} # Para: capacity b[i]\n",
    "a = {\"coloring\":{\"basic-used\":8.5, \"vintage\":9, \"used-finished\":7.5}, \n",
    "     \"sewing\":{\"basic-used\":8, \"vintage\":9, \"used-finished\":8.5}, \n",
    "     \"washing\":{\"basic-used\":3, \"vintage\":2, \"used-finished\":2.5}} # Para: production time a[i][j]"
   ]
  },
  {
   "cell_type": "code",
   "execution_count": 57,
   "id": "aabfe0d6",
   "metadata": {},
   "outputs": [
    {
     "name": "stdout",
     "output_type": "stream",
     "text": [
      "Gurobi Optimizer version 12.0.1 build v12.0.1rc0 (linux64 - \"Linux Mint 22.1\")\n",
      "\n",
      "CPU model: 13th Gen Intel(R) Core(TM) i7-1355U, instruction set [SSE2|AVX|AVX2]\n",
      "Thread count: 12 physical cores, 12 logical processors, using up to 12 threads\n",
      "\n",
      "Optimize a model with 3 rows, 3 columns and 9 nonzeros\n",
      "Model fingerprint: 0xe103cae5\n",
      "Coefficient statistics:\n",
      "  Matrix range     [2e+00, 9e+00]\n",
      "  Objective range  [8e+01, 1e+02]\n",
      "  Bounds range     [0e+00, 0e+00]\n",
      "  RHS range        [3e+02, 3e+02]\n",
      "Presolve removed 1 rows and 0 columns\n",
      "Presolve time: 0.01s\n",
      "Presolved: 2 rows, 3 columns, 6 nonzeros\n",
      "\n",
      "Iteration    Objective       Primal Inf.    Dual Inf.      Time\n",
      "       0    3.2000000e+03   8.972235e+00   0.000000e+00      0s\n",
      "       2    3.0722222e+03   0.000000e+00   0.000000e+00      0s\n",
      "\n",
      "Solved in 2 iterations and 0.01 seconds (0.00 work units)\n",
      "Optimal objective  3.072222222e+03\n"
     ]
    }
   ],
   "source": [
    "# Model Cell\n",
    "model = gp.Model(\"Primal\")\n",
    "x = model.addVars((j for j in J), vtype=GRB.CONTINUOUS, name=\"number of production\")\n",
    "model.setObjective(gp.quicksum(x[j]*r[j] for j in J), GRB.MAXIMIZE)\n",
    "constraints = model.addConstrs((gp.quicksum(a[i][j]*x[j] for j in J) <= b[i] for i in I), name=\"capactity constraints\")\n",
    "model.optimize()"
   ]
  },
  {
   "cell_type": "code",
   "execution_count": 58,
   "id": "44d9d703",
   "metadata": {},
   "outputs": [
    {
     "name": "stdout",
     "output_type": "stream",
     "text": [
      "\n",
      "The optimal solution is: 3072.2.\n",
      "\n",
      "Optimal number of production:\n",
      "basic-used:20.0\n",
      "vintage:14.444444444444445\n",
      "used-finished:0.0\n",
      "\n",
      "Reduced Cost:\n",
      "basic-used:0.0\n",
      "vintage:0.0\n",
      "used-finished:-8.6111111111111\n",
      "\n",
      "Shadow Price (Dual Value):\n",
      "washing:0.0\n",
      "coloring:1.1111111111111143\n",
      "sewing:9.444444444444441\n",
      "\n",
      "Constraint Slack:\n",
      "washing:241.11111111111111\n",
      "coloring:0.0\n",
      "sewing:0.0\n"
     ]
    }
   ],
   "source": [
    "# Model Output\n",
    "print(f'\\nThe optimal solution is: {round(model.Objval,1)}.\\n\\nOptimal number of production:')\n",
    "for j in J:\n",
    "    print(f'{j}:{x[j].X}')\n",
    "print(f'\\nReduced Cost:')\n",
    "for j in J:\n",
    "    print(f'{j}:{x[j].RC}')\n",
    "print(f'\\nShadow Price (Dual Value):')\n",
    "for i in I:\n",
    "    print(f'{i}:{constraints[i].Pi}')\n",
    "print(f'\\nConstraint Slack:')\n",
    "for i in I:\n",
    "    print(f'{i}:{constraints[i].Slack}')"
   ]
  },
  {
   "cell_type": "code",
   "execution_count": 59,
   "id": "e332e8ab",
   "metadata": {},
   "outputs": [],
   "source": [
    "# Data cell\n",
    "I = {\"coloring\", \"sewing\", \"washing\"} # Set: production steps i\n",
    "J = {\"basic-used\", \"vintage\", \"used-finished\"} # Set: jeans types j \n",
    "r = {\"basic-used\":85, \"vintage\":95, \"used-finished\":80} # Para: marginal income r[j]\n",
    "b = {\"coloring\":300, \"sewing\":290, \"washing\":330} # Para: capacity b[i]\n",
    "a = {\"coloring\":{\"basic-used\":8.5, \"vintage\":9, \"used-finished\":7.5}, \n",
    "     \"sewing\":{\"basic-used\":8, \"vintage\":9, \"used-finished\":8.5}, \n",
    "     \"washing\":{\"basic-used\":3, \"vintage\":2, \"used-finished\":2.5}} # Para: production time a[i][j]"
   ]
  },
  {
   "cell_type": "code",
   "execution_count": 60,
   "id": "2591221d",
   "metadata": {},
   "outputs": [
    {
     "name": "stdout",
     "output_type": "stream",
     "text": [
      "Gurobi Optimizer version 12.0.1 build v12.0.1rc0 (linux64 - \"Linux Mint 22.1\")\n",
      "\n",
      "CPU model: 13th Gen Intel(R) Core(TM) i7-1355U, instruction set [SSE2|AVX|AVX2]\n",
      "Thread count: 12 physical cores, 12 logical processors, using up to 12 threads\n",
      "\n",
      "Optimize a model with 3 rows, 3 columns and 9 nonzeros\n",
      "Model fingerprint: 0xa2bb5b67\n",
      "Coefficient statistics:\n",
      "  Matrix range     [2e+00, 9e+00]\n",
      "  Objective range  [3e+02, 3e+02]\n",
      "  Bounds range     [0e+00, 0e+00]\n",
      "  RHS range        [8e+01, 1e+02]\n",
      "Presolve removed 0 rows and 1 columns\n",
      "Presolve time: 0.02s\n",
      "Presolved: 3 rows, 2 columns, 6 nonzeros\n",
      "\n",
      "Iteration    Objective       Primal Inf.    Dual Inf.      Time\n",
      "       0    0.0000000e+00   3.250000e+01   0.000000e+00      0s\n",
      "       2    3.0722222e+03   0.000000e+00   0.000000e+00      0s\n",
      "\n",
      "Solved in 2 iterations and 0.03 seconds (0.00 work units)\n",
      "Optimal objective  3.072222222e+03\n"
     ]
    }
   ],
   "source": [
    "# Model cell\n",
    "model = gp.Model(\"Dual\")\n",
    "y = model.addVars((i for i in I), vtype=GRB.CONTINUOUS, name=\"shadow price\")\n",
    "model.setObjective(gp.quicksum(b[i]*y[i] for i in I), GRB.MINIMIZE)\n",
    "model.addConstrs((gp.quicksum(a[i][j]*y[i] for i in I) >= r[j] for j in J), name=\"value constraints\")\n",
    "model.optimize()"
   ]
  }
 ],
 "metadata": {
  "kernelspec": {
   "display_name": "env_mos",
   "language": "python",
   "name": "python3"
  },
  "language_info": {
   "codemirror_mode": {
    "name": "ipython",
    "version": 3
   },
   "file_extension": ".py",
   "mimetype": "text/x-python",
   "name": "python",
   "nbconvert_exporter": "python",
   "pygments_lexer": "ipython3",
   "version": "3.12.3"
  }
 },
 "nbformat": 4,
 "nbformat_minor": 5
}

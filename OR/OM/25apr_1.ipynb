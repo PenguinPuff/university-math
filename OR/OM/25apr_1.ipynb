{
 "cells": [
  {
   "cell_type": "code",
   "execution_count": 2,
   "metadata": {},
   "outputs": [
    {
     "name": "stdout",
     "output_type": "stream",
     "text": [
      "Gurobi Optimizer version 12.0.1 build v12.0.1rc0 (linux64 - \"Linux Mint 22.1\")\n",
      "\n",
      "CPU model: 13th Gen Intel(R) Core(TM) i7-1355U, instruction set [SSE2|AVX|AVX2]\n",
      "Thread count: 12 physical cores, 12 logical processors, using up to 12 threads\n",
      "\n",
      "Optimize a model with 5 rows, 2 columns and 8 nonzeros\n",
      "Model fingerprint: 0xaf7b3893\n",
      "Coefficient statistics:\n",
      "  Matrix range     [1e+00, 5e+00]\n",
      "  Objective range  [1e+01, 4e+01]\n",
      "  Bounds range     [0e+00, 0e+00]\n",
      "  RHS range        [1e+01, 3e+01]\n",
      "Presolve removed 2 rows and 0 columns\n",
      "Presolve time: 0.01s\n",
      "Presolved: 3 rows, 2 columns, 6 nonzeros\n",
      "\n",
      "Iteration    Objective       Primal Inf.    Dual Inf.      Time\n",
      "       0    3.0000000e+02   2.924550e+01   0.000000e+00      0s\n",
      "       2    2.5000000e+02   0.000000e+00   0.000000e+00      0s\n",
      "\n",
      "Solved in 2 iterations and 0.02 seconds (0.00 work units)\n",
      "Optimal objective  2.500000000e+02\n"
     ]
    }
   ],
   "source": [
    "import gurobipy as gp\n",
    "\n",
    "model = gp.Model(\"1_p_1_example\")\n",
    "\n",
    "x = model.addVar(name = \"x\")\n",
    "y = model.addVar(name = \"y\")\n",
    "\n",
    "model.setObjective(10*x + 40*y, gp.GRB.MAXIMIZE)\n",
    "\n",
    "model.addConstr(1*x + 5*y <= 30, \"Constraint_1\")\n",
    "model.addConstr(x + y <= 10, \"Constraint_2\")\n",
    "model.addConstr(3*x + y <= 24, \"Constraint_3\")\n",
    "model.addConstr(x >= 0, \"non-negativity_constraint\")\n",
    "model.addConstr(y >= 0, \"non-negativity_constraint\")\n",
    "model.optimize()"
   ]
  },
  {
   "cell_type": "markdown",
   "metadata": {},
   "source": [
    "Problem 1 in MOS Sheet 1"
   ]
  },
  {
   "cell_type": "code",
   "execution_count": 7,
   "metadata": {},
   "outputs": [
    {
     "name": "stdout",
     "output_type": "stream",
     "text": [
      "Gurobi Optimizer version 12.0.1 build v12.0.1rc0 (linux64 - \"Linux Mint 22.1\")\n",
      "\n",
      "CPU model: 13th Gen Intel(R) Core(TM) i7-1355U, instruction set [SSE2|AVX|AVX2]\n",
      "Thread count: 12 physical cores, 12 logical processors, using up to 12 threads\n",
      "\n",
      "Optimize a model with 6 rows, 2 columns and 8 nonzeros\n",
      "Model fingerprint: 0xe0561ca4\n",
      "Coefficient statistics:\n",
      "  Matrix range     [1e+00, 3e+00]\n",
      "  Objective range  [2e+00, 2e+00]\n",
      "  Bounds range     [0e+00, 0e+00]\n",
      "  RHS range        [1e+02, 2e+02]\n",
      "Presolve removed 4 rows and 0 columns\n",
      "Presolve time: 0.01s\n",
      "Presolved: 2 rows, 2 columns, 4 nonzeros\n",
      "\n",
      "Iteration    Objective       Primal Inf.    Dual Inf.      Time\n",
      "       0    1.3000000e+02   7.487250e+00   0.000000e+00      0s\n",
      "       2    1.0750000e+02   0.000000e+00   0.000000e+00      0s\n",
      "\n",
      "Solved in 2 iterations and 0.03 seconds (0.00 work units)\n",
      "Optimal objective  1.075000000e+02\n"
     ]
    }
   ],
   "source": [
    "import gurobipy as gp\n",
    "\n",
    "model = gp.Model(\"1_p_1_example\")\n",
    "\n",
    "x = model.addVar(name = \"x\")\n",
    "y = model.addVar(name = \"y\")\n",
    "\n",
    "model.setObjective(1.5*x + 2*y, gp.GRB.MAXIMIZE)\n",
    "\n",
    "model.addConstr(3*x + 2*y <= 130, \"Constraint_1\")\n",
    "model.addConstr(x + 2*y <= 100, \"Constraint_2\")\n",
    "model.addConstr(x <= 100, \"Constraint_3\")\n",
    "model.addConstr(y <= 150, \"Constraint_4\")\n",
    "model.addConstr(x >= 0, \"non-negativity_constraint\")\n",
    "model.addConstr(y >= 0, \"non-negativity_constraint\")\n",
    "model.optimize()"
   ]
  },
  {
   "cell_type": "markdown",
   "metadata": {},
   "source": [
    "2nd Problem in MOS Sheet 1"
   ]
  },
  {
   "cell_type": "code",
   "execution_count": 2,
   "metadata": {},
   "outputs": [
    {
     "ename": "ModuleNotFoundError",
     "evalue": "No module named 'gurobipy'",
     "output_type": "error",
     "traceback": [
      "\u001b[31m---------------------------------------------------------------------------\u001b[39m",
      "\u001b[31mModuleNotFoundError\u001b[39m                       Traceback (most recent call last)",
      "\u001b[36mCell\u001b[39m\u001b[36m \u001b[39m\u001b[32mIn[2]\u001b[39m\u001b[32m, line 1\u001b[39m\n\u001b[32m----> \u001b[39m\u001b[32m1\u001b[39m \u001b[38;5;28;01mimport\u001b[39;00m\u001b[38;5;250m \u001b[39m\u001b[34;01mgurobipy\u001b[39;00m\u001b[38;5;250m \u001b[39m\u001b[38;5;28;01mas\u001b[39;00m\u001b[38;5;250m \u001b[39m\u001b[34;01mgp\u001b[39;00m \n\u001b[32m      3\u001b[39m model = gp.Model(\u001b[33m\"\u001b[39m\u001b[33mGLP\u001b[39m\u001b[33m\"\u001b[39m)\n\u001b[32m      5\u001b[39m x = model.addVar(name = \u001b[33m\"\u001b[39m\u001b[33mx\u001b[39m\u001b[33m\"\u001b[39m)\n",
      "\u001b[31mModuleNotFoundError\u001b[39m: No module named 'gurobipy'"
     ]
    }
   ],
   "source": [
    "import gurobipy as gp \n",
    "\n",
    "model = gp.Model(\"GLP\")\n",
    "\n",
    "x = model.addVar(name = \"x\")\n",
    "y = model.addVar(name = \"y\")\n",
    "\n",
    "model.setObjective(0.4*x + 1.5*y, gp.GRB.MINIMIZE)\n",
    "\n",
    "model.addConstr(60*x + 0*y >= 320, \"Constraint_1\")\n",
    "model.addConstr(8*x + 0*y >= 60, \"Constraint_2\")\n",
    "model.addConstr(1*x + 80*y >= 60, \"Constraint_3\")\n",
    "model.addConstr(x >= 0, \"non-negativity_constraint\")\n",
    "model.addConstr(y >= 0, \"non-negativity_constraint\")\n",
    "model.optimize()"
   ]
  },
  {
   "cell_type": "code",
   "execution_count": 6,
   "metadata": {},
   "outputs": [
    {
     "name": "stdout",
     "output_type": "stream",
     "text": [
      "Gurobi Optimizer version 12.0.1 build v12.0.1rc0 (linux64 - \"Linux Mint 22.1\")\n",
      "\n",
      "CPU model: 13th Gen Intel(R) Core(TM) i7-1355U, instruction set [SSE2|AVX|AVX2]\n",
      "Thread count: 12 physical cores, 12 logical processors, using up to 12 threads\n",
      "\n",
      "Optimize a model with 8 rows, 4 columns and 16 nonzeros\n",
      "Model fingerprint: 0xb296f781\n",
      "Coefficient statistics:\n",
      "  Matrix range     [1e+00, 4e+00]\n",
      "  Objective range  [3e+00, 2e+01]\n",
      "  Bounds range     [0e+00, 0e+00]\n",
      "  RHS range        [1e+00, 2e+00]\n",
      "Presolve removed 4 rows and 1 columns\n",
      "Presolve time: 0.01s\n",
      "Presolved: 4 rows, 3 columns, 9 nonzeros\n",
      "\n",
      "Iteration    Objective       Primal Inf.    Dual Inf.      Time\n",
      "       0    0.0000000e+00   1.500000e+00   0.000000e+00      0s\n",
      "       2    6.0000000e+00   0.000000e+00   0.000000e+00      0s\n",
      "\n",
      "Solved in 2 iterations and 0.02 seconds (0.00 work units)\n",
      "Optimal objective  6.000000000e+00\n"
     ]
    }
   ],
   "source": [
    "import gurobipy as gp \n",
    "\n",
    "model = gp.Model(\"GLP\")\n",
    "\n",
    "x = model.addVar(name = \"x\")\n",
    "y = model.addVar(name = \"y\")\n",
    "w = model.addVar(name = \"w\")\n",
    "z = model.addVar(name = \"z\")\n",
    "\n",
    "model.setObjective(3*w + 20*x + 13*y + 3*z, gp.GRB.MINIMIZE)\n",
    "\n",
    "model.addConstr(3*w + 1*x >= 1, \"Constraint_1\")\n",
    "model.addConstr(2*w + 3*x + 3*y >= 2, \"Constraint_2\")\n",
    "model.addConstr(4*x + 1*y + 1*z >= 1, \"Constraint_3\")\n",
    "model.addConstr(1*w + 2*x + 1*y + 1*z >=1, \"constraint_4\")\n",
    "model.addConstr(x >= 0, \"non-negativity_constraint\")\n",
    "model.addConstr(y >= 0, \"non-negativity_constraint\")\n",
    "model.addConstr(w >= 0, \"non-negativity_constraint\")\n",
    "model.addConstr(z >= 0, \"non-negativity_constraint\")\n",
    "\n",
    "model.optimize()"
   ]
  },
  {
   "cell_type": "code",
   "execution_count": 9,
   "metadata": {},
   "outputs": [
    {
     "name": "stdout",
     "output_type": "stream",
     "text": [
      "Gurobi Optimizer version 12.0.1 build v12.0.1rc0 (linux64 - \"Linux Mint 22.1\")\n",
      "\n",
      "CPU model: 13th Gen Intel(R) Core(TM) i7-1355U, instruction set [SSE2|AVX|AVX2]\n",
      "Thread count: 12 physical cores, 12 logical processors, using up to 12 threads\n",
      "\n",
      "Optimize a model with 5 rows, 3 columns and 9 nonzeros\n",
      "Model fingerprint: 0xab0be92f\n",
      "Coefficient statistics:\n",
      "  Matrix range     [1e+00, 4e+00]\n",
      "  Objective range  [1e+00, 1e+00]\n",
      "  Bounds range     [0e+00, 0e+00]\n",
      "  RHS range        [2e+00, 5e+00]\n",
      "Presolve removed 3 rows and 0 columns\n",
      "Presolve time: 0.01s\n",
      "Presolved: 2 rows, 3 columns, 6 nonzeros\n",
      "\n",
      "Iteration    Objective       Primal Inf.    Dual Inf.      Time\n",
      "       0    2.0000000e+00   0.000000e+00   0.000000e+00      0s\n",
      "       0    2.0000000e+00   0.000000e+00   0.000000e+00      0s\n",
      "\n",
      "Solved in 0 iterations and 0.02 seconds (0.00 work units)\n",
      "Optimal objective  2.000000000e+00\n"
     ]
    }
   ],
   "source": [
    "import gurobipy as gp \n",
    "\n",
    "model = gp.Model(\"GLP\")\n",
    "\n",
    "x = model.addVar(name = \"x\")\n",
    "y = model.addVar(name = \"y\")\n",
    "z = model.addVar(name = \"z\")\n",
    "\n",
    "model.setObjective(x + y + z, gp.GRB.MAXIMIZE)\n",
    "\n",
    "model.addConstr(4*x + 2*y + 1*z <= 2, \"Constraint_1\")\n",
    "model.addConstr(1*x + 3*y + 1*z <= 5, \"Constraint_2\")\n",
    "\n",
    "model.addConstr(x >= 0, \"non-negativity_constraint\")\n",
    "model.addConstr(y >= 0, \"non-negativity_constraint\")\n",
    "model.addConstr(z >= 0, \"non-negativity_constraint\")\n",
    "\n",
    "model.optimize()"
   ]
  }
 ],
 "metadata": {
  "kernelspec": {
   "display_name": "Python 3",
   "language": "python",
   "name": "python3"
  },
  "language_info": {
   "codemirror_mode": {
    "name": "ipython",
    "version": 3
   },
   "file_extension": ".py",
   "mimetype": "text/x-python",
   "name": "python",
   "nbconvert_exporter": "python",
   "pygments_lexer": "ipython3",
   "version": "3.13.3"
  }
 },
 "nbformat": 4,
 "nbformat_minor": 2
}
